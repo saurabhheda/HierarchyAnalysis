{
 "cells": [
  {
   "cell_type": "code",
   "execution_count": 1,
   "metadata": {
    "extensions": {
     "jupyter_dashboards": {
      "version": 1,
      "views": {
       "grid_default": {},
       "report_default": {
        "hidden": true
       }
      }
     }
    }
   },
   "outputs": [],
   "source": [
    "import pandas as pd\n",
    "from collections import OrderedDict\n",
    "from traitlets import link\n",
    "import ipywidgets as widgets"
   ]
  },
  {
   "cell_type": "code",
   "execution_count": 2,
   "metadata": {
    "extensions": {
     "jupyter_dashboards": {
      "version": 1,
      "views": {
       "grid_default": {},
       "report_default": {
        "hidden": true
       }
      }
     }
    },
    "scrolled": false
   },
   "outputs": [],
   "source": [
    "#Implementing this for interactivety: showing output of all the lines of a code-block\n",
    "#from IPython.core.interactiveshell import InteractiveShell\n",
    "#InteractiveShell.ast_node_interactivity = \"all\""
   ]
  },
  {
   "cell_type": "code",
   "execution_count": 3,
   "metadata": {
    "extensions": {
     "jupyter_dashboards": {
      "version": 1,
      "views": {
       "grid_default": {},
       "report_default": {
        "hidden": true
       }
      }
     }
    },
    "scrolled": false
   },
   "outputs": [],
   "source": [
    "#Read data from Hierarchy files\n",
    "clnd_df = pd.read_csv(\"clnd.csv\") \n",
    "prod_df = pd.read_csv(\"prod_refined.csv.dat\")\n",
    "loc_df = pd.read_csv(\"loc.csv\")"
   ]
  },
  {
   "cell_type": "code",
   "execution_count": 4,
   "metadata": {
    "extensions": {
     "jupyter_dashboards": {
      "version": 1,
      "views": {
       "grid_default": {},
       "report_default": {
        "hidden": true
       }
      }
     }
    },
    "scrolled": false
   },
   "outputs": [],
   "source": [
    "#Check the data types on the columns within the hiearchy files data frame \n",
    "#clnd_df.dtypes\n",
    "#loc_df.dtypes\n",
    "#prod_df.dtypes\n",
    "\n",
    "#prod_df[prod_df.notnull()] = prod_df[prod_df.notnull()].astype(str)\n",
    "#prod_df.where(~prod_df.notnull(), prod_df.astype(str))"
   ]
  },
  {
   "cell_type": "code",
   "execution_count": 5,
   "metadata": {
    "extensions": {
     "jupyter_dashboards": {
      "version": 1,
      "views": {
       "grid_default": {},
       "report_default": {
        "hidden": true
       }
      }
     }
    },
    "scrolled": false
   },
   "outputs": [],
   "source": [
    "#Each Department contain how many items \n",
    "#df = prod_df.groupby('department').count()[['item']]\n",
    "#df = df.reset_index()\n",
    "#df"
   ]
  },
  {
   "cell_type": "code",
   "execution_count": 6,
   "metadata": {
    "extensions": {
     "jupyter_dashboards": {
      "version": 1,
      "views": {
       "grid_default": {},
       "report_default": {
        "hidden": true
       }
      }
     }
    },
    "scrolled": false
   },
   "outputs": [],
   "source": [
    "#Importing from bqplot\n",
    "import numpy as np\n",
    "import bqplot.pyplot as plt\n",
    "from bqplot import *"
   ]
  },
  {
   "cell_type": "code",
   "execution_count": 7,
   "metadata": {
    "extensions": {
     "jupyter_dashboards": {
      "version": 1,
      "views": {
       "grid_default": {},
       "report_default": {
        "hidden": true
       }
      }
     }
    },
    "scrolled": false
   },
   "outputs": [],
   "source": [
    "#plt.figure(title='SKUs by Dept')\n",
    "#plt.bar(np.arange(1,prod_df['department_label'].value_counts().count()),prod_df['department_label'].value_counts())\n",
    "#plt.show()"
   ]
  },
  {
   "cell_type": "code",
   "execution_count": 8,
   "metadata": {
    "extensions": {
     "jupyter_dashboards": {
      "version": 1,
      "views": {
       "grid_default": {},
       "report_default": {
        "hidden": true
       }
      }
     }
    },
    "scrolled": false
   },
   "outputs": [],
   "source": [
    "def bargraph_for_location(name,title):\n",
    "    x_ord = OrdinalScale()\n",
    "    y_sc = LinearScale()\n",
    "\n",
    "    bar = Bars(x=prod_df[name].value_counts().index, y=prod_df[name].value_counts(), scales={'x': x_ord, 'y': y_sc},orientation='horizontal',padding = 0.02)\n",
    "    ax_x = Axis(scale=x_ord,orientation='vertical',label_location = \"middle\",tick_style= {'font-size': '10px', 'font-weight': 'bold'},side=\"left\")\n",
    "    ax_y = Axis(scale=y_sc,tick_format='0.0f')\n",
    "\n",
    "    fig_bar = Figure(marks=[bar], axes=[ax_x, ax_y], padding_x=0.01, padding_y=0.01,title=title)\n",
    "    fig_bar.layout.width = '800px'\n",
    "    fig_bar.layout.height = '600px'\n",
    "\n",
    "    margin = dict(top=50, bottom=80, left=200, right=5)\n",
    "    fig_bar.fig_margin = margin\n",
    "    return fig_bar\n",
    "\n",
    "fig_bar_skubydivision = bargraph_for_location(\"division_label\",\"Items by Division\")\n",
    "fig_bar_skubygroup = bargraph_for_location(\"group_label\",\"Items by Group\")\n",
    "fig_bar_skubydept = bargraph_for_location(\"department_label\",\"Items by Department\")\n",
    "fig_bar_skubyclass = bargraph_for_location(\"class_label\",\"Items by class\")\n",
    "fig_bar_skubysubclass = bargraph_for_location(\"subclass_label\",\"Items by Subclass\")\n",
    "fig_bar_skubyitemgp = bargraph_for_location(\"itemgrandparent_label\",\"Items by Item Grand Parent\")\n",
    "fig_bar_skubyitemp = bargraph_for_location(\"itemparent_label\",\"Items by Item Parent\")\n",
    "\n",
    "#fig_bar_skubydivision\n",
    "#Solve the issue of x axis width solved by adding the margin"
   ]
  },
  {
   "cell_type": "code",
   "execution_count": 9,
   "metadata": {
    "extensions": {
     "jupyter_dashboards": {
      "version": 1,
      "views": {
       "grid_default": {},
       "report_default": {
        "hidden": false
       }
      }
     }
    }
   },
   "outputs": [],
   "source": [
    "def bargraph_for_prodloc(hier,x,y,label,title):\n",
    "    x_ord = OrdinalScale()\n",
    "    y_sc = LinearScale()\n",
    "#    name_tooltip = hier.drop_duplicates([x,y])[label].value_counts().index\n",
    "    tooltip_widget = Tooltip(fields=['y', 'x'], formats=['0f', ''])\n",
    "\n",
    "    bar = Bars(x=hier.drop_duplicates([x,y])[label].value_counts().index, y=hier.drop_duplicates([x,y])[label].value_counts(), \n",
    "               scales={'x': x_ord, 'y': y_sc},orientation='horizontal',padding = 0.02, tooltip=tooltip_widget)\n",
    "    ax_x = Axis(scale=x_ord,label_location = \"middle\",tick_style= {'font-size': '10px', 'font-weight': 'bold'},side=\"left\")\n",
    "    ax_y = Axis(scale=y_sc,tick_format='0.0f')\n",
    "\n",
    "    fig_bar = Figure(marks=[bar], axes=[ax_x, ax_y], padding_x=0.01, padding_y=0.01,title=title)\n",
    "    fig_bar.layout.width = '800px'\n",
    "    fig_bar.layout.height = '600px'\n",
    "\n",
    "    margin = dict(top=50, bottom=80, left=200, right=5)\n",
    "    fig_bar.fig_margin = margin\n",
    "    return fig_bar\n",
    "\n",
    "#bargraph_for_prodloc(prod_df,\"item\",\"department\",\"department_label\",\"SKUs by Divisioin\")"
   ]
  },
  {
   "cell_type": "code",
   "execution_count": 10,
   "metadata": {
    "extensions": {
     "jupyter_dashboards": {
      "version": 1,
      "views": {
       "grid_default": {},
       "report_default": {
        "hidden": true
       }
      }
     }
    }
   },
   "outputs": [],
   "source": [
    "#prod_df['itemgrandparent_label'].value_counts()"
   ]
  },
  {
   "cell_type": "code",
   "execution_count": 11,
   "metadata": {
    "extensions": {
     "jupyter_dashboards": {
      "version": 1,
      "views": {
       "grid_default": {},
       "report_default": {
        "hidden": true
       }
      }
     }
    },
    "scrolled": false
   },
   "outputs": [],
   "source": [
    "#Pie Chart of Data\n",
    "\n",
    "def piegraph_for_product(name,title,radius=80):\n",
    "    x_ord = OrdinalScale()\n",
    "    sc = ColorScale(scheme='Reds')\n",
    "    name_tooltip = prod_df[name].value_counts().index\n",
    "\n",
    "    label_list = list(prod_df[name].value_counts().index)\n",
    "    e = []\n",
    "\n",
    "    for i in range(len(label_list)):\n",
    "        if i== 0:#if i == None is also valid but slower and not recommended by PEP8\n",
    "            e.append(label_list[i])\n",
    "        elif i== len(label_list)-1:\n",
    "            e.append(label_list[i])\n",
    "        else:\n",
    "            e.append('')\n",
    "\n",
    "    label_list = e\n",
    "    tooltip_widget = Tooltip(fields=['size', 'label','field'], formats=['0f', '',''])\n",
    "    pie = Pie(sizes=prod_df[name].value_counts(),inner_radius=0.05,radius=radius, scales={'color': sc},\n",
    "               display_labels='outside',labels=label_list,field=prod_df[name].value_counts().index,\n",
    "             tooltip=tooltip_widget, interactions = {'hover': 'tooltip'}, selected_style={'fill': 'red'})\n",
    "  \n",
    "    pie.selected_style = {\"opacity\": \"1\", \"stroke\": \"white\", \"stroke-width\": \"2\"}\n",
    "    pie.unselected_style = {\"opacity\": \"0.8\"}\n",
    "    \n",
    "    # Changing interaction to select on click and tooltip on hover\n",
    "    pie.interactions = {'click': 'select', 'hover': 'tooltip'}\n",
    "    fig_pie = Figure(marks=[pie], animation_duration=1000,title=title)\n",
    "    return fig_pie\n",
    "\n",
    "fig_pie_skubydivision = piegraph_for_product(\"division_label\",\"Items by Division\")\n",
    "fig_pie_skubygroup = piegraph_for_product(\"group_label\",\"Items by Group\")\n",
    "fig_pie_skubydept = piegraph_for_product(\"department_label\",\"Items by Department\")\n",
    "fig_pie_skubyclass = piegraph_for_product(\"class_label\",\"Items by class\")\n",
    "fig_pie_skubysubclass = piegraph_for_product(\"subclass_label\",\"Items by Subclass\")\n",
    "fig_pie_skubyitemgp = piegraph_for_product(\"itemgrandparent_label\",\"Items by Item Grand Parent\")\n",
    "fig_pie_skubyitemp = piegraph_for_product(\"itemparent_label\",\"Items by Item Parent\")\n",
    "#fig_pie_skubyitemgp\n",
    "\n"
   ]
  },
  {
   "cell_type": "code",
   "execution_count": 12,
   "metadata": {
    "extensions": {
     "jupyter_dashboards": {
      "version": 1,
      "views": {
       "grid_default": {},
       "report_default": {
        "hidden": false
       }
      }
     }
    }
   },
   "outputs": [],
   "source": [
    "#loc_df[\"company_label\"].value_counts()\n",
    "#loc_df.groupby(['store','company']).count()\n",
    "\n",
    "#loc_df.district.unique()\n",
    "#loc_df.drop_duplicates(['store','company'])['company_label'].value_counts()\n",
    "#loc_df.drop_duplicates(['store','region'])['region_label'].value_counts()\n"
   ]
  },
  {
   "cell_type": "code",
   "execution_count": 49,
   "metadata": {
    "extensions": {
     "jupyter_dashboards": {
      "version": 1,
      "views": {
       "grid_default": {},
       "report_default": {
        "hidden": true
       }
      }
     }
    }
   },
   "outputs": [
    {
     "data": {
      "application/vnd.jupyter.widget-view+json": {
       "model_id": "bf4367b414a741e9800612e8a450b06d",
       "version_major": 2,
       "version_minor": 0
      },
      "text/plain": [
       "Figure(animation_duration=1000, fig_margin={'top': 60, 'bottom': 60, 'left': 60, 'right': 60}, marks=[Pie(colo…"
      ]
     },
     "metadata": {},
     "output_type": "display_data"
    }
   ],
   "source": [
    "#loc_df.drop_duplicates(['store','company'])['company_label'].value_counts()\n",
    "#loc_df.drop_duplicates(['store','region'])['region_label'].value_counts()\n",
    "\n",
    "def piegraph_for_prodloc(hier,x,y,label,title,radius=80):\n",
    "    x_ord = OrdinalScale()\n",
    "    sc = ColorScale(scheme='Reds')\n",
    " \n",
    "    name_tooltip = hier.drop_duplicates([x,y])[label].value_counts().index\n",
    "    tooltip_widget = Tooltip(fields=['size', 'label'], formats=['0f', ''])\n",
    "    pie = Pie(sizes=hier.drop_duplicates([x,y])[label].value_counts(),inner_radius=0.05,radius=radius, scales={'color': sc},\n",
    "    display_labels='none',display_values=False,display_legends=True,\n",
    "    labels=list(hier.drop_duplicates([x,y])[label].value_counts().index),\n",
    "    tooltip=tooltip_widget, interactions = {'hover': 'tooltip'}, selected_style={'fill': 'red'})\n",
    "\n",
    "    pie.selected_style = {\"opacity\": \"1\", \"stroke\": \"white\", \"stroke-width\": \"2\"}\n",
    "    pie.unselected_style = {\"opacity\": \"0.8\"}\n",
    "    \n",
    "    # Changing interaction to select on click and tooltip on hover\n",
    "    pie.interactions = {'click': 'select', 'hover': 'tooltip'}\n",
    "    fig_pie = Figure(marks=[pie], animation_duration=1000,title=title)\n",
    "    return fig_pie\n",
    "\n",
    "\n",
    "#Graph objects for location\n",
    "fig_pie_strbycompany= piegraph_for_prodloc(loc_df,\"store\",\"company\",\"company_label\",\"Stores by Company\")\n",
    "fig_pie_strbychain = piegraph_for_prodloc(loc_df,\"store\",\"chain\",\"chain_label\",\"Stores by Chain\")\n",
    "fig_pie_strbyarea = piegraph_for_prodloc(loc_df,\"store\",\"area\",\"area_label\",\"Stores by Area\")\n",
    "fig_pie_strbyregion = piegraph_for_prodloc(loc_df,\"store\",\"region\",\"region_label\",\"Stores by Region\")\n",
    "fig_pie_strbydistrict = piegraph_for_prodloc(loc_df,\"store\",\"district\",\"district_label\",\"Stores by District\")\n",
    "\n",
    "fig_pie_dstbycompany= piegraph_for_prodloc(loc_df,\"district\",\"company\",\"company_label\",\"District by Company\")\n",
    "fig_pie_dstbychain = piegraph_for_prodloc(loc_df,\"district\",\"chain\",\"chain_label\",\"District by Chain\")\n",
    "fig_pie_dstbyarea = piegraph_for_prodloc(loc_df,\"district\",\"area\",\"area_label\",\"District by Area\")\n",
    "fig_pie_dstbyregion = piegraph_for_prodloc(loc_df,\"district\",\"region\",\"region_label\",\"District by Region\")\n",
    "\n",
    "fig_pie_regbycompany= piegraph_for_prodloc(loc_df,\"region\",\"company\",\"company_label\",\"Region by Company\")\n",
    "fig_pie_regbychain = piegraph_for_prodloc(loc_df,\"region\",\"chain\",\"chain_label\",\"Region by Chain\")\n",
    "fig_pie_regbyarea = piegraph_for_prodloc(loc_df,\"region\",\"area\",\"area_label\",\"Region by Area\")\n",
    "\n",
    "\n",
    "fig_pie_areabycompany= piegraph_for_prodloc(loc_df,\"area\",\"company\",\"company_label\",\"Area by Company\")\n",
    "fig_pie_areabychain = piegraph_for_prodloc(loc_df,\"area\",\"chain\",\"chain_label\",\"Area by Chain\")\n",
    "\n",
    "fig_pie_chainbycompany= piegraph_for_prodloc(loc_df,\"chain\",\"company\",\"company_label\",\"Chain by Company\")\n",
    "\n",
    "\n",
    "#Graph Objects for Product Hierarchy\n",
    "fig_pie_skubydivision = piegraph_for_prodloc(prod_df,\"item\",\"division\",\"division_label\",\"Item by Division\")\n",
    "fig_pie_skubygroup = piegraph_for_prodloc(prod_df, \"item\",\"group\",\"group_label\",\"Items by Group\")\n",
    "fig_pie_skubydept = piegraph_for_prodloc(prod_df,\"item\",\"department\",\"department_label\",\"Items by Department\")\n",
    "fig_pie_skubyclass = piegraph_for_prodloc(prod_df,\"item\",\"class\",\"class_label\",\"Items by class\")\n",
    "fig_pie_skubysubclass = piegraph_for_prodloc(prod_df,\"item\",\"subclass\",\"subclass_label\",\"Items by Subclass\")\n",
    "fig_pie_skubyitemgp = piegraph_for_prodloc(prod_df,\"item\",\"itemgrandparent\",\"itemgrandparent_label\",\"Items by Item Grand Parent\")\n",
    "fig_pie_skubyitemp = piegraph_for_prodloc(prod_df,\"item\",\"itemparent\",\"itemparent_label\",\"Items by Item Parent\")\n",
    "\n",
    "fig_pie_skupbydivision = piegraph_for_prodloc(prod_df,\"itemparent\",\"division\",\"division_label\",\"Item Parent by Division\")\n",
    "fig_pie_skupbygroup = piegraph_for_prodloc(prod_df, \"itemparent\",\"group\",\"group_label\",\"Items Parent by Group\")\n",
    "fig_pie_skupbydept = piegraph_for_prodloc(prod_df,\"itemparent\",\"department\",\"department_label\",\"Items Parent by Department\")\n",
    "fig_pie_skupbyclass = piegraph_for_prodloc(prod_df,\"itemparent\",\"class\",\"class_label\",\"Items Parent by class\")\n",
    "fig_pie_skupbysubclass = piegraph_for_prodloc(prod_df,\"itemparent\",\"subclass\",\"subclass_label\",\"Items Parent by Subclass\")\n",
    "fig_pie_skupbyitemgp = piegraph_for_prodloc(prod_df,\"itemparent\",\"itemgrandparent\",\"itemgrandparent_label\",\"Items Parent by Item Grand Parent\")\n",
    "\n",
    "fig_pie_skugpbydivision = piegraph_for_prodloc(prod_df,\"itemgrandparent\",\"division\",\"division_label\",\"Item Grand Parent by Division\")\n",
    "fig_pie_skugpbygroup = piegraph_for_prodloc(prod_df, \"itemgrandparent\",\"group\",\"group_label\",\"Items Grand Parent by Group\")\n",
    "fig_pie_skugpbydept = piegraph_for_prodloc(prod_df,\"itemgrandparent\",\"department\",\"department_label\",\"Items Grand Parent by Department\")\n",
    "fig_pie_skugpbyclass = piegraph_for_prodloc(prod_df,\"itemgrandparent\",\"class\",\"class_label\",\"Items Grand Parent by class\")\n",
    "fig_pie_skugpbysubclass = piegraph_for_prodloc(prod_df,\"itemgrandparent\",\"subclass\",\"subclass_label\",\"Items Grand Parent by Subclass\")\n",
    "\n",
    "fig_pie_sclsbydivision = piegraph_for_prodloc(prod_df,\"subclass\",\"division\",\"division_label\",\"Subclass by Division\")\n",
    "fig_pie_sclsbygroup = piegraph_for_prodloc(prod_df, \"subclass\",\"group\",\"group_label\",\"Subclass by Group\")\n",
    "fig_pie_sclsbydept = piegraph_for_prodloc(prod_df,\"subclass\",\"department\",\"department_label\",\"Subclass by Department\")\n",
    "fig_pie_sclsbyclass = piegraph_for_prodloc(prod_df,\"subclass\",\"class\",\"class_label\",\"Subclass by class\")\n",
    "\n",
    "fig_pie_clsbydivision = piegraph_for_prodloc(prod_df,\"class\",\"division\",\"division_label\",\"Class by Division\")\n",
    "fig_pie_clsbygroup = piegraph_for_prodloc(prod_df, \"class\",\"group\",\"group_label\",\"Class by Group\")\n",
    "fig_pie_clsbydept = piegraph_for_prodloc(prod_df,\"class\",\"department\",\"department_label\",\"Class by Department\")\n",
    "\n",
    "fig_pie_deptbydivision = piegraph_for_prodloc(prod_df,\"department\",\"division\",\"division_label\",\"Department by Division\")\n",
    "fig_pie_deptbygroup = piegraph_for_prodloc(prod_df, \"department\",\"group\",\"group_label\",\"Department by Group\")\n",
    "\n",
    "fig_pie_grpbydivision = piegraph_for_prodloc(prod_df,\"group\",\"division\",\"division_label\",\"Group by Division\")\n",
    "\n",
    "\n",
    "#fig_pie_skubyitemgp"
   ]
  },
  {
   "cell_type": "code",
   "execution_count": 48,
   "metadata": {
    "extensions": {
     "jupyter_dashboards": {
      "version": 1,
      "views": {
       "grid_default": {},
       "report_default": {
        "hidden": true
       }
      }
     }
    },
    "scrolled": false
   },
   "outputs": [],
   "source": [
    "#For Product Hierarchy\n",
    "from ipywidgets import Layout\n",
    "fig_layout = Layout(width='500px', height='500px')\n",
    "node_data = [\n",
    "    {'label': 'Division', 'shape': 'rect','shape_attrs': {'rx':10,'ry':10, 'height': 20,'width':70},  'Distinct': prod_df['division'].nunique(dropna = True)},\n",
    "    {'label': 'Group', 'shape': 'rect','shape_attrs': {'rx':10,'ry':10,'height': 20,'width':70},  'Distinct': prod_df['group'].nunique(dropna = True)},\n",
    "    {'label': 'Department', 'shape': 'rect', 'shape_attrs': {'rx':10,'ry':10,'height': 20,'width':70},'Distinct': prod_df['department'].nunique(dropna = True)},\n",
    "    {'label': 'Class', 'shape': 'rect',  'shape_attrs': {'rx':10,'ry':10,'height': 20,'width':70},'Distinct':prod_df['class'].nunique(dropna = True)},\n",
    "    {'label': 'Subclass', 'shape': 'rect','shape_attrs': {'rx':10,'ry':10,'height': 20,'width':70}, 'Distinct': prod_df['subclass'].nunique(dropna = True)},\n",
    "    {'label': 'Item GP', 'shape': 'rect','shape_attrs': {'rx':10,'ry':10,'height': 20,'width':70}, 'Distinct': prod_df['itemgrandparent'].nunique(dropna = True)},\n",
    "    {'label': 'Item P', 'shape': 'rect','shape_attrs': {'rx':10,'ry':10,'height': 20,'width':70},  'Distinct': prod_df['itemparent'].nunique(dropna = True)},\n",
    "    {'label': 'Item', 'shape': 'rect','shape_attrs': {'rx':10,'ry':10,'height': 20,'width':70},  'Distinct': prod_df['item'].nunique(dropna = True)},\n",
    "]\n",
    "source = np.arange(0,7).reshape(7,1)\n",
    "target = np.arange(1,8).reshape(7,1)\n",
    "link_data = [{'source': s, 'target': t, 'value': np.random.rand()} for s, t in np.concatenate((source,target),axis=1)]\n",
    "\n",
    "xs = LinearScale()\n",
    "ys = LinearScale()\n",
    "#cs = ColorScale(scheme='Reds')\n",
    "\n",
    "x = [100,100,100,100,100,100,100,100]\n",
    "y = [16,14,12,10,8,6,4,2]\n",
    "graph_prod = Graph(node_data=node_data, link_data = link_data, link_type ='line',\n",
    "              colors=['orange'] * 7,\n",
    "              scales={'x': xs, 'y': ys}, x=x, y=y, \n",
    "              directed=False)\n",
    "fig_prod = Figure(marks=[graph_prod], layout=fig_layout,title=\"Product Hierarchy\")\n",
    "\n",
    "\n",
    "#graph.on_background_click(print_event)\n",
    "#graph.on_element_click(print_event)\n",
    " "
   ]
  },
  {
   "cell_type": "code",
   "execution_count": 15,
   "metadata": {
    "extensions": {
     "jupyter_dashboards": {
      "version": 1,
      "views": {
       "grid_default": {},
       "report_default": {
        "hidden": true
       }
      }
     }
    }
   },
   "outputs": [],
   "source": [
    "graph_prod.hovered_style = {'stroke': 'red'}\n",
    "graph_prod.unhovered_style = {'opacity': '0.4'}\n"
   ]
  },
  {
   "cell_type": "code",
   "execution_count": 16,
   "metadata": {
    "extensions": {
     "jupyter_dashboards": {
      "version": 1,
      "views": {
       "grid_default": {},
       "report_default": {
        "hidden": true
       }
      }
     }
    },
    "scrolled": false
   },
   "outputs": [],
   "source": [
    "tooltip_prod = Tooltip(fields=['label', 'Distinct'], formats=['', '', ''])\n",
    "graph_prod.tooltip = tooltip_prod"
   ]
  },
  {
   "cell_type": "code",
   "execution_count": 17,
   "metadata": {
    "extensions": {
     "jupyter_dashboards": {
      "version": 1,
      "views": {
       "grid_default": {},
       "report_default": {
        "hidden": true
       }
      }
     }
    },
    "scrolled": false
   },
   "outputs": [],
   "source": [
    "#For Location Hierarchy\n",
    "fig_layout = Layout(width='500px', height='500px')\n",
    "node_data = [\n",
    "    {'label': 'Company', 'shape': 'rect','shape_attrs': {'rx':10,'ry':10, 'height': 20,'width':70},'Distinct': loc_df['company'].nunique(dropna = True)},\n",
    "    {'label': 'Chain', 'shape': 'rect','shape_attrs': {'rx':10,'ry':10,'height': 20,'width':70},  'Distinct': loc_df['chain'].nunique(dropna = True)},\n",
    "    {'label': 'Area', 'shape': 'rect', 'shape_attrs': {'rx':10,'ry':10,'height': 20,'width':70},'Distinct': loc_df['area'].nunique(dropna = True)},\n",
    "    {'label': 'Region', 'shape': 'rect',  'shape_attrs': {'rx':10,'ry':10,'height': 20,'width':70},'Distinct': loc_df['region'].nunique(dropna = True)},\n",
    "    {'label': 'District', 'shape': 'rect','shape_attrs': {'rx':10,'ry':10,'height': 20,'width':70},  'Distinct': loc_df['district'].nunique(dropna = True)},\n",
    "    {'label': 'Store', 'shape': 'rect','shape_attrs': {'rx':10,'ry':10,'height': 20,'width':70}, 'Distinct': loc_df['store'].nunique(dropna = True)},\n",
    "  ]\n",
    "source = np.arange(0,5).reshape(5,1)\n",
    "target = np.arange(1,6).reshape(5,1)\n",
    "link_data = [{'source': s, 'target': t, 'value': np.random.rand()} for s, t in np.concatenate((source,target),axis=1)]\n",
    "\n",
    "xs = LinearScale()\n",
    "ys = LinearScale()\n",
    "x = [100,100,100,100,100,100]\n",
    "y = [16,14,12,10,8,6]\n",
    "graph_loc = Graph(node_data=node_data, link_data = link_data, link_type = 'line',\n",
    "              colors=['orange'] * 7,\n",
    "              scales={'x': xs, 'y': ys, }, x=x, y=y, \n",
    "              directed=False)\n",
    "fig_loc = Figure(marks=[graph_loc], layout=fig_layout, title=\"Location Hierarchy\")\n",
    "\n",
    "#fig_loc\n"
   ]
  },
  {
   "cell_type": "code",
   "execution_count": 18,
   "metadata": {
    "extensions": {
     "jupyter_dashboards": {
      "version": 1,
      "views": {
       "grid_default": {},
       "report_default": {
        "hidden": true
       }
      }
     }
    }
   },
   "outputs": [],
   "source": [
    "tooltip_loc = Tooltip(fields=['label', 'Distinct'], formats=['', '', ''])\n",
    "graph_loc.tooltip = tooltip_loc"
   ]
  },
  {
   "cell_type": "code",
   "execution_count": 19,
   "metadata": {
    "extensions": {
     "jupyter_dashboards": {
      "version": 1,
      "views": {
       "grid_default": {},
       "report_default": {
        "hidden": false
       }
      }
     }
    }
   },
   "outputs": [],
   "source": [
    "graph_loc.hovered_style = {'stroke': 'red'}\n",
    "graph_loc.unhovered_style = {'opacity': '0.4'}\n",
    "\n",
    "#fig_loc"
   ]
  },
  {
   "cell_type": "code",
   "execution_count": 20,
   "metadata": {
    "extensions": {
     "jupyter_dashboards": {
      "version": 1,
      "views": {
       "grid_default": {},
       "report_default": {
        "hidden": true
       }
      }
     }
    }
   },
   "outputs": [],
   "source": [
    "#Parent Child Relationship Validation in Hierarchy\n",
    "def hier_parent_child_validation(hier,x,y):\n",
    "    new_df = hier.drop_duplicates([x,y])[[x,y]]\n",
    "    bool1 = any(new_df[x].duplicated())\n",
    "    return bool1\n",
    "\n",
    "item_itemp_bool = hier_parent_child_validation(prod_df,'item','itemparent')\n",
    "itemp_itemgp_bool = hier_parent_child_validation(prod_df,'itemparent','itemgrandparent')\n",
    "itemgp_subclass_bool = hier_parent_child_validation(prod_df,'itemgrandparent','subclass')\n",
    "subclass_class_bool = hier_parent_child_validation(prod_df,'subclass','class')\n",
    "class_dept_bool = hier_parent_child_validation(prod_df,'class','department')\n",
    "dept_group_bool = hier_parent_child_validation(prod_df,'department','group')\n",
    "group_division_bool = hier_parent_child_validation(prod_df,'group','division')\n",
    "\n",
    "store_dist_bool = hier_parent_child_validation(loc_df,'store','district')\n",
    "dist_region_bool = hier_parent_child_validation(loc_df,'district','region')\n",
    "region_area_bool = hier_parent_child_validation(loc_df,'region','area')\n",
    "area_chain_bool = hier_parent_child_validation(loc_df,'area','chain')\n",
    "chain_company_bool= hier_parent_child_validation(loc_df,'chain','company')\n",
    "\n",
    "item_itemp_val=widgets.HBox([widgets.Label(value=\"One Item Number/Numbers assigned to different Item Parent\"),\n",
    "                             widgets.Valid(value= not item_itemp_bool)])\n",
    "itemp_itemgp_val=widgets.HBox([widgets.Label(value=\"One Item Parent assigned to different Item Grandparent\"), \n",
    "                               widgets.Valid(value= not itemp_itemgp_bool)])\n",
    "itemgp_subclass_val=widgets.HBox([widgets.Label(value=\"One Item Grand Parent is assigned to differnt Subclasses\"), \n",
    "                                  widgets.Valid(value= not itemgp_subclass_bool)])\n",
    "subclass_class_val=widgets.HBox([widgets.Label(value=\"One Subclass assigned to two different Classes\"), \n",
    "                                 widgets.Valid(value= not subclass_class_bool)])\n",
    "class_dept_val=widgets.HBox([widgets.Label(value=\"One Class assigned to two different Departements\"), \n",
    "                             widgets.Valid(value= not class_dept_bool)])\n",
    "dept_group_val=widgets.HBox([widgets.Label(value=\"One Department assigned to two different Groups\"), \n",
    "                             widgets.Valid(value= not dept_group_bool)])\n",
    "group_division_val=widgets.HBox([widgets.Label(value=\"One Group assigned to two different Divisions\"), \n",
    "                                 widgets.Valid(value= not group_division_bool)])\n",
    "\n",
    "store_dist_val=widgets.HBox([widgets.Label(value=\"One Store assigned to different Districts\"),\n",
    "                             widgets.Valid(value= not store_dist_bool)])\n",
    "dist_region_val=widgets.HBox([widgets.Label(value=\"One District assigend to different Regions\"), \n",
    "                               widgets.Valid(value= not dist_region_bool)])\n",
    "region_area_val=widgets.HBox([widgets.Label(value=\"One Region assigned to differnt Areas\"), \n",
    "                                  widgets.Valid(value= not region_area_bool)])\n",
    "area_chain_val=widgets.HBox([widgets.Label(value=\"One Area assigned to two different Chains\"), \n",
    "                                 widgets.Valid(value= not area_chain_bool)])\n",
    "chain_company_val=widgets.HBox([widgets.Label(value=\"One Chain assigned to two different Companies\"), \n",
    "                             widgets.Valid(value= not chain_company_bool)])\n"
   ]
  },
  {
   "cell_type": "code",
   "execution_count": 21,
   "metadata": {
    "extensions": {
     "jupyter_dashboards": {
      "version": 1,
      "views": {
       "grid_default": {},
       "report_default": {
        "hidden": true
       }
      }
     }
    }
   },
   "outputs": [],
   "source": [
    "#Function to Validate the Hierarchy (Product and Location)\n",
    "#prod_df.drop_duplicates(['item','item_label'])[['item','item_label']]\n",
    "def validate_hier(hier,x,y):\n",
    "    new_df = hier.drop_duplicates([x,y])[[x,y]]\n",
    "    bool1 = any(new_df[x].duplicated())\n",
    "    bool2 = any(new_df[y].duplicated())\n",
    "    return bool1, bool2\n",
    "\n",
    "\n",
    "item_b,item_label_b = validate_hier(prod_df,'item','item_label')\n",
    "itemp_b,itemp_label_b = validate_hier(prod_df,'itemparent','itemparent_label')\n",
    "itemgp_b,itemgp_label_b= validate_hier(prod_df,'itemgrandparent','itemgrandparent_label')\n",
    "subclass_b,subclass_label_b= validate_hier(prod_df,'subclass','subclass_label')\n",
    "class_b,class_label_b= validate_hier(prod_df,'class','class_label')\n",
    "dept_b,dept_label_b= validate_hier(prod_df,'department','department_label')\n",
    "group_b,group_label_b= validate_hier(prod_df,'group','group_label')\n",
    "division_b,division_label_b= validate_hier(prod_df,'division','division_label')\n",
    "prod_boolean = any(prod_df['item'].duplicated())\n",
    "\n",
    "#Product Hierarchy Validation\n",
    "prod_hier_val=widgets.HBox([widgets.Label(value=\"Product Hierarchy has duplicate Item numbers!\"), widgets.Valid(value= not prod_boolean)])\n",
    "itemb_pro_val=widgets.HBox([widgets.Label(value=\"Duplicate Item Number by Item Labels present in hierarchy\"), widgets.Valid(value= not item_b)])\n",
    "itemlabelb_pro_val=widgets.HBox([widgets.Label(value=\"Duplicate Item Label by Item Numbers\"), widgets.Valid(value= not item_label_b)])\n",
    "itemp_pro_val=widgets.HBox([widgets.Label(value=\"Duplicate Item Parent by Item Parent Label\"), widgets.Valid(value= not itemp_b)])\n",
    "itemplabelb_pro_val=widgets.HBox([widgets.Label(value=\"Duplicate Item Parent Label by Item Parent Numbers\"), widgets.Valid(value= not itemp_label_b)])\n",
    "itemgp_pro_val=widgets.HBox([widgets.Label(value=\"Duplicate Item Grand Parent by Item Grand Parent Label\"), widgets.Valid(value= not itemgp_b)])\n",
    "itemgplabelb_pro_val=widgets.HBox([widgets.Label(value=\"Duplicate Item Grand Parent Label by Item Grand Parent Numbers\"), widgets.Valid(value= not itemgp_label_b)])\n",
    "subclassb_pro_val=widgets.HBox([widgets.Label(value=\"Duplicate Subclasses by Subclass Label\"), widgets.Valid(value= not subclass_b)])\n",
    "subclasslabelb_pro_val=widgets.HBox([widgets.Label(value=\"Duplicate Subclass Label by Subclasses\"), widgets.Valid(value= not subclass_label_b)])\n",
    "class_pro_val=widgets.HBox([widgets.Label(value=\"Duplicate Classes by Class Labels\"), widgets.Valid(value= not class_b)])\n",
    "classlabelb_pro_val=widgets.HBox([widgets.Label(value=\"Duplicate Class labels by Class Number\"), widgets.Valid(value= not class_label_b)])\n",
    "dept_pro_val=widgets.HBox([widgets.Label(value=\"Duplicate Department by Department Labels\"), widgets.Valid(value= not dept_b)])\n",
    "deptlabelb_pro_val=widgets.HBox([widgets.Label(value=\"Duplicate Dept Label by Dept Numbers\"), widgets.Valid(value= not dept_label_b)])\n",
    "groupb_pro_val=widgets.HBox([widgets.Label(value=\"Duplicate group by Group Labels\"), widgets.Valid(value= not group_b)])\n",
    "grouplabelb_pro_val=widgets.HBox([widgets.Label(value=\"Duplicate group label by Group Numbers\"), widgets.Valid(value= not group_label_b)])\n",
    "divisionb_pro_val=widgets.HBox([widgets.Label(value=\"Duplicate Division by Division Labels\"), widgets.Valid(value= not division_b)])\n",
    "divisionlabelb_pro_val=widgets.HBox([widgets.Label(value=\"Duplicate division label by division Numbers\"), widgets.Valid(value= not division_label_b)])\n",
    "\n",
    "#Location validation \n",
    "store_b,store_label_b = validate_hier(loc_df,'store','store_label')\n",
    "district_b,district_label_b = validate_hier(loc_df,'district','district_label')\n",
    "region_b,region_label_b= validate_hier(loc_df,'region','region_label')\n",
    "area_b,area_label_b= validate_hier(loc_df,'area','area_label')\n",
    "chain_b,chain_label_b= validate_hier(loc_df,'chain','chain_label')\n",
    "company_b,company_label_b= validate_hier(loc_df,'company','company_label')\n",
    "loc_boolean = any(loc_df['store'].duplicated())\n",
    "\n",
    "loc_hier_val=widgets.HBox([widgets.Label(value=\"Location Hierarchy has duplicate Store numbers!\"), widgets.Valid(value= not loc_boolean)])\n",
    "storeb_pro_val=widgets.HBox([widgets.Label(value=\"Duplicate Store by Store Label\"), widgets.Valid(value= not store_b)])\n",
    "storelabelb_pro_val=widgets.HBox([widgets.Label(value=\"Duplicate Store label by store numbers\"), widgets.Valid(value= not store_label_b)])\n",
    "districtp_pro_val=widgets.HBox([widgets.Label(value=\"Duplicate District by District Label\"), widgets.Valid(value= not district_b)])\n",
    "districtlabelb_pro_val=widgets.HBox([widgets.Label(value=\"Duplicate District Labels by District numbers\"), widgets.Valid(value= not district_label_b)])\n",
    "region_pro_val=widgets.HBox([widgets.Label(value=\"Duplicate Region number by Region Labels\"), widgets.Valid(value= not region_b)])\n",
    "regionlabelb_pro_val=widgets.HBox([widgets.Label(value=\"Duplicate Region Labels by region numbers\"), widgets.Valid(value= not region_label_b)])\n",
    "area_pro_val=widgets.HBox([widgets.Label(value=\"Duplicate Area by Area Labels\"), widgets.Valid(value= not area_b)])\n",
    "arealabelb_pro_val=widgets.HBox([widgets.Label(value=\"Duplicate Area Label by Area\"), widgets.Valid(value= not area_label_b)])\n",
    "chain_pro_val=widgets.HBox([widgets.Label(value=\"Duplicate Chain by Chain Labels\"), widgets.Valid(value= not chain_b)])\n",
    "chainlabelb_pro_val=widgets.HBox([widgets.Label(value=\"Duplicate Chain label by chain number\"), widgets.Valid(value= not chain_label_b)])\n",
    "companyb_pro_val=widgets.HBox([widgets.Label(value=\"Duplicate Company by Company label\"), widgets.Valid(value= not company_b)])\n",
    "companylabelb_pro_val=widgets.HBox([widgets.Label(value=\"Duplicate Company labels by Company Numbers\"), widgets.Valid(value= not company_label_b)])\n",
    "\n",
    "\n",
    "#widgets.HBox([widgets.Label(value=\"Product Hierarchy has duplicate Item numbers!\"), widgets.Valid(value= not boolean)])\n",
    "#widgets.HBox([widgets.Label(value=\"Product Hierarchy has duplicate Item numbers!\"), widgets.Valid(value= not boolean)])\n",
    "prod_hier_valildation =widgets.HBox([widgets.VBox([prod_hier_val,itemb_pro_val,itemlabelb_pro_val,itemp_pro_val,itemplabelb_pro_val,itemgp_pro_val,itemgplabelb_pro_val,\n",
    "              subclassb_pro_val,subclasslabelb_pro_val,class_pro_val,classlabelb_pro_val,dept_pro_val,deptlabelb_pro_val,\n",
    "              groupb_pro_val,grouplabelb_pro_val,divisionb_pro_val,divisionlabelb_pro_val]),\n",
    "              widgets.VBox([item_itemp_val,itemp_itemgp_val,itemgp_subclass_val,subclass_class_val,class_dept_val,\n",
    "                dept_group_val,group_division_val])])\n",
    "\n",
    "loc_hier_validation = widgets.HBox([widgets.VBox([loc_hier_val,storeb_pro_val,storelabelb_pro_val,districtp_pro_val,districtlabelb_pro_val,region_pro_val,regionlabelb_pro_val,\n",
    "              area_pro_val,arealabelb_pro_val,chain_pro_val,chainlabelb_pro_val,companyb_pro_val,companylabelb_pro_val]),\n",
    "                    widgets.VBox([store_dist_val,dist_region_val,region_area_val,area_chain_val,chain_company_val])])\n"
   ]
  },
  {
   "cell_type": "code",
   "execution_count": 22,
   "metadata": {
    "extensions": {
     "jupyter_dashboards": {
      "version": 1,
      "views": {
       "grid_default": {},
       "report_default": {
        "hidden": true
       }
      }
     }
    }
   },
   "outputs": [],
   "source": [
    "#Creating Market Map of the Stores This is for the illustrative in the final Dashboard we are skipping this \n",
    "#and creating Market Map with the Tooltip\n",
    "from bqplot.market_map import MarketMap\n",
    "\n",
    "col = ColorScale(scheme='Greens')\n",
    "ax_c = ColorAxis(scale=col, label='Stoer Map', visible=False)\n",
    "\n",
    "store_codes = loc_df.store.values\n",
    "store_names = loc_df['store']\n",
    "region = loc_df['chain_label'].values\n",
    "\n",
    "market_map = MarketMap(names=store_codes, groups = region,     \n",
    "                       # basic data which needs to set for each map\n",
    "                       ref_data=loc_df,  \n",
    "                       cols=15, row_groups=3,\n",
    "                       # Data frame which can be used for different properties of the map\n",
    "                       # Axis and scale for color data\n",
    "                       scales={'color': col}, axes=[ax_c],\n",
    "                       tooltip_fields=['store_label', 'chain'],\n",
    "                       layout=Layout(width='800px', height='600px'))\n",
    "\n",
    "\n",
    "#market_map.show_groups = True\n"
   ]
  },
  {
   "cell_type": "code",
   "execution_count": 23,
   "metadata": {
    "extensions": {
     "jupyter_dashboards": {
      "version": 1,
      "views": {
       "grid_default": {},
       "report_default": {
        "hidden": true
       }
      }
     }
    }
   },
   "outputs": [
    {
     "name": "stderr",
     "output_type": "stream",
     "text": [
      "C:\\ProgramData\\Anaconda3\\lib\\site-packages\\IPython\\core\\interactiveshell.py:3057: DtypeWarning: Columns (2) have mixed types. Specify dtype option on import or set low_memory=False.\n",
      "  interactivity=interactivity, compiler=compiler, result=result)\n"
     ]
    }
   ],
   "source": [
    "#Regular Sales and POS Sales Data loaded in the dataframe\n",
    "\n",
    "rsal_df = pd.read_csv(\"rsal.csv.ovr\") \n",
    "dpos_df = pd.read_csv(\"dpos.csv.ovr\")\n"
   ]
  },
  {
   "cell_type": "code",
   "execution_count": 24,
   "metadata": {
    "extensions": {
     "jupyter_dashboards": {
      "version": 1,
      "views": {
       "grid_default": {},
       "report_default": {
        "hidden": true
       }
      }
     }
    }
   },
   "outputs": [],
   "source": [
    "#rsal_df.store.nunique()\n",
    "#loc_df[~loc_df.store.isin(rsal_df.store.values)]\n",
    "\n",
    "#loc_df[~loc_df.store.isin(rsal_df.store.values)]['store'].tolist()\n",
    "#pd.DataFrame(columns=loc_df[~loc_df.store.isin(rsal_df.store.values)]['store'].tolist())\n",
    "\n",
    "#Coverting the day in the datetime format and extracting Year from the data\n",
    "rsal_df['day'] = pd.to_datetime(rsal_df['day'], format='%Y%m%d', errors='ignore')\n",
    "rsal_df['year'] = rsal_df.day.dt.year\n",
    "\n",
    "#new_rsal_df=rsal_df.groupby(['year','store']).sum()['qty'].unstack()\n",
    "#new_rsal_df = pd.pivot_table(rsal_str_df, index=['year'], columns='store', aggfunc=sum, fill_value=0)\n",
    "\n",
    "#Grouping and finding aggregate QTY from the data and then append the stores in the data for which we don't have data\n",
    "new_rsal_df = pd.concat([rsal_df.groupby(['year','store']).sum()['qty'].unstack(),pd.DataFrame(columns=loc_df[~loc_df.store.isin(rsal_df.store.values)]['store'].tolist())],axis=1)"
   ]
  },
  {
   "cell_type": "code",
   "execution_count": 25,
   "metadata": {
    "extensions": {
     "jupyter_dashboards": {
      "version": 1,
      "views": {
       "grid_default": {},
       "report_default": {
        "hidden": true
       }
      }
     }
    }
   },
   "outputs": [],
   "source": [
    "# Creating the final figure to be displayed as the tooltip in the market map\n",
    "sc_x = DateScale()\n",
    "sc_y = LinearScale()\n",
    "\n",
    "ax_x = Axis(scale=sc_x, grid_lines='dashed', label='Date')\n",
    "ax_y = Axis(scale=sc_y, orientation='vertical', grid_lines='dashed',\n",
    "            label='$ Value', label_location='end') #label_offset='-1em')\n",
    "\n",
    "bar = Bars(x= pd.to_datetime(new_rsal_df.index,format='%Y').values, y=[], scales={'x': sc_x, 'y': sc_y}, colors=['orange'],padding=0.3)\n",
    "fig_tooltip = Figure(marks=[bar], axes=[ax_x, ax_y])\n"
   ]
  },
  {
   "cell_type": "code",
   "execution_count": 26,
   "metadata": {
    "extensions": {
     "jupyter_dashboards": {
      "version": 1,
      "views": {
       "grid_default": {},
       "report_default": {
        "hidden": false
       }
      }
     }
    }
   },
   "outputs": [],
   "source": [
    "market_map = MarketMap(names=store_codes, groups = region,     \n",
    "                       # basic data which needs to set for each map\n",
    "                       cols=15, row_groups=3,\n",
    "                       ref_data=loc_df,\n",
    "                       # Data frame which can be used for different properties of the map\n",
    "                       # Axis and scale for color data\n",
    "                       scales={'color': col}, axes=[ax_c],\n",
    "                       tooltip_widget=fig_tooltip,\n",
    "                       freeze_tooltip_location=True,\n",
    "                       #tooltip_fields=['store_label', 'chain'],\n",
    "                       layout=Layout(width='800px', height='600px'))\n",
    "\n",
    "\n",
    "\n",
    "# Update the tooltip chart\n",
    "hovered_symbol = ''\n",
    "def hover_handler(self, content):\n",
    "    global hovered_symbol\n",
    "    symbol = content.get('data','')\n",
    "    \n",
    "    if(symbol != hovered_symbol):\n",
    "        hovered_symbol = symbol\n",
    "        if(new_rsal_df.get(hovered_symbol) is not None):\n",
    "            bar.y = new_rsal_df[hovered_symbol].values\n",
    "            fig_tooltip.title = content.get('ref_data', {}).get('store_label', '')\n",
    "\n",
    "# Custom msg sent when a particular cell is hovered on\n",
    "market_map.on_hover(hover_handler)\n",
    "\n",
    "market_map.font_style = {'font-size': '12px', 'fill':'white'}\n",
    "market_map.title = 'STORE MAP COLOURED BY CHAIN'\n",
    "market_map.title_style = {'fill': 'Red'}\n",
    "\n",
    "#market_map"
   ]
  },
  {
   "cell_type": "code",
   "execution_count": 27,
   "metadata": {
    "extensions": {
     "jupyter_dashboards": {
      "version": 1,
      "views": {
       "grid_default": {},
       "report_default": {
        "hidden": true
       }
      }
     }
    },
    "scrolled": false
   },
   "outputs": [],
   "source": [
    "#display(fig_prod,fig_loc)\n",
    "label = widgets.Label(\"Hierarchy Analysis Dashboard\",font_size=42)\n",
    "first_box = widgets.HBox([fig_prod,fig_loc])\n",
    "#second_boxi1 = widgets.HBox([fig_bar_skubydivision,fig_bar_skubygroup,fig_bar_skubydept])\n",
    "#second_boxi2 = widgets.HBox([fig_bar_skubyclass])\n",
    "#second_box = widgets.VBox([second_boxi1,second_boxi2])\n",
    "\n",
    "item_boxi1 = widgets.HBox([fig_pie_skubydivision,fig_pie_skubygroup,fig_pie_skubydept])\n",
    "item_boxi2 = widgets.HBox([fig_pie_skubyclass,fig_pie_skubysubclass])\n",
    "item_boxi3 = widgets.HBox([fig_pie_skubyitemgp,fig_pie_skubyitemp])\n",
    "item_box = widgets.VBox([item_boxi1,item_boxi2,item_boxi3])\n",
    "\n",
    "itemp_boxi1 = widgets.HBox([fig_pie_skupbydivision,fig_pie_skupbygroup])\n",
    "itemp_boxi2 = widgets.HBox([fig_pie_skupbydept,fig_pie_skupbyclass])\n",
    "itemp_boxi3 = widgets.HBox([fig_pie_skupbysubclass,fig_pie_skupbyitemgp])\n",
    "itemp_box = widgets.VBox([itemp_boxi1,itemp_boxi2,itemp_boxi3])\n",
    "\n",
    "itemgp_boxi1 = widgets.HBox([fig_pie_skugpbydivision,fig_pie_skugpbygroup])\n",
    "itemgp_boxi2 = widgets.HBox([fig_pie_skugpbydept,fig_pie_skugpbyclass])\n",
    "itemgp_boxi3 = widgets.HBox([fig_pie_skugpbysubclass])\n",
    "itemgp_box = widgets.VBox([itemgp_boxi1,itemgp_boxi2,itemgp_boxi3])\n",
    "\n",
    "subclass_boxi1 = widgets.HBox([fig_pie_sclsbydivision,fig_pie_sclsbygroup])\n",
    "subclass_boxi2 = widgets.HBox([fig_pie_sclsbydept,fig_pie_sclsbyclass])\n",
    "subclass_box = widgets.VBox([subclass_boxi1,subclass_boxi2])\n",
    "\n",
    "class_boxi1 = widgets.HBox([fig_pie_clsbydivision,fig_pie_clsbygroup])\n",
    "class_boxi2 = widgets.HBox([fig_pie_clsbydept])\n",
    "class_box = widgets.VBox([class_boxi1,class_boxi2])\n",
    "\n",
    "dept_boxi1 = widgets.HBox([fig_pie_deptbydivision,fig_pie_deptbygroup])\n",
    "dept_box = widgets.VBox([dept_boxi1])\n",
    "\n",
    "group_box = widgets.VBox([fig_pie_grpbydivision])\n",
    "\n"
   ]
  },
  {
   "cell_type": "code",
   "execution_count": 28,
   "metadata": {
    "extensions": {
     "jupyter_dashboards": {
      "version": 1,
      "views": {
       "grid_default": {},
       "report_default": {
        "hidden": true
       }
      }
     }
    }
   },
   "outputs": [],
   "source": [
    "third_box1 = widgets.HBox([fig_pie_strbycompany,fig_pie_strbychain,fig_pie_strbyarea])\n",
    "third_box2 = widgets.HBox([fig_pie_strbyregion,fig_pie_strbydistrict])\n",
    "#third_box3 = widgets.HBox([fig_pie_skubyitemgp,fig_pie_skubyitemp])\n",
    "store_box = widgets.VBox([third_box1,third_box2])"
   ]
  },
  {
   "cell_type": "code",
   "execution_count": 29,
   "metadata": {
    "extensions": {
     "jupyter_dashboards": {
      "version": 1,
      "views": {
       "grid_default": {},
       "report_default": {
        "hidden": true
       }
      }
     }
    }
   },
   "outputs": [],
   "source": [
    "fourth_box1 = widgets.HBox([fig_pie_dstbycompany,fig_pie_dstbychain])\n",
    "fourth_box2 = widgets.HBox([fig_pie_dstbyarea,fig_pie_dstbyregion])\n",
    "district_box = widgets.VBox([fourth_box1,fourth_box2])"
   ]
  },
  {
   "cell_type": "code",
   "execution_count": 30,
   "metadata": {
    "extensions": {
     "jupyter_dashboards": {
      "version": 1,
      "views": {
       "grid_default": {},
       "report_default": {
        "hidden": true
       }
      }
     }
    }
   },
   "outputs": [],
   "source": [
    "fifth_box1 = widgets.HBox([fig_pie_regbycompany,fig_pie_regbychain])\n",
    "fifth_box2 = widgets.HBox([fig_pie_regbyarea])\n",
    "region_box = widgets.VBox([fifth_box1,fifth_box2])\n",
    "\n",
    "sixth_box1 = widgets.HBox([fig_pie_areabycompany,fig_pie_areabychain])\n",
    "area_box = widgets.VBox([sixth_box1])\n",
    "\n",
    "chain_box = widgets.VBox([fig_pie_chainbycompany])\n"
   ]
  },
  {
   "cell_type": "code",
   "execution_count": 31,
   "metadata": {
    "extensions": {
     "jupyter_dashboards": {
      "version": 1,
      "views": {
       "grid_default": {},
       "report_default": {
        "hidden": true
       }
      }
     }
    }
   },
   "outputs": [],
   "source": [
    "#Creating tabs in the dashboard\n",
    "\n",
    "tab = widgets.Tab()\n",
    "\n",
    "prod_accord_widgets  = [item_box, itemp_box,itemgp_box,subclass_box, class_box,dept_box,group_box ]\n",
    "accordion_prod = widgets.Accordion(children=prod_accord_widgets)\n",
    "accordion_prod.selected_index = None\n",
    "accordion_prod.set_title(0, 'Item')\n",
    "accordion_prod.set_title(1, 'Item Parent')\n",
    "accordion_prod.set_title(2, 'Item Grand Parent')\n",
    "accordion_prod.set_title(3, 'Subclass')\n",
    "accordion_prod.set_title(4, 'Class')\n",
    "accordion_prod.set_title(5, 'Department')\n",
    "accordion_prod.set_title(6, 'Group')\n",
    "\n",
    "loc_accord_widgets  = [store_box, district_box,region_box, area_box, chain_box ]\n",
    "accordion = widgets.Accordion(children=loc_accord_widgets)\n",
    "accordion.selected_index = None\n",
    "accordion.set_title(0, 'Store')\n",
    "accordion.set_title(1, 'District')\n",
    "accordion.set_title(2, 'Region')\n",
    "accordion.set_title(3, 'Area')\n",
    "accordion.set_title(4, 'Chain')\n",
    "\n",
    "children = [first_box, prod_hier_valildation, loc_hier_validation, accordion_prod,accordion,market_map]\n",
    "tab.children = children\n",
    "\n",
    "# changing the title of the first and second window\n",
    "tab.set_title(0, 'Hierarchy Overview')\n",
    "tab.set_title(1, 'Product Hierarchy Validation')\n",
    "tab.set_title(2, 'Location Hierarchy Validation')\n",
    "tab.set_title(3, 'Product')\n",
    "tab.set_title(4, 'Location')\n",
    "tab.set_title(5, 'Store Map')\n",
    "\n",
    "\n"
   ]
  },
  {
   "cell_type": "code",
   "execution_count": 32,
   "metadata": {
    "extensions": {
     "jupyter_dashboards": {
      "version": 1,
      "views": {
       "grid_default": {},
       "report_default": {
        "hidden": false
       }
      }
     }
    }
   },
   "outputs": [],
   "source": [
    "#Below html code is to increase width of the tab in the Dashboard"
   ]
  },
  {
   "cell_type": "code",
   "execution_count": 33,
   "metadata": {
    "extensions": {
     "jupyter_dashboards": {
      "version": 1,
      "views": {
       "grid_default": {},
       "report_default": {
        "hidden": false
       }
      }
     }
    }
   },
   "outputs": [
    {
     "data": {
      "text/html": [
       "<style>\n",
       ".jupyter-widgets.widget-tab > .p-TabBar .p-TabBar-tab {\n",
       "    flex: 0 1 300px\n",
       "}\n",
       "</style>\n"
      ],
      "text/plain": [
       "<IPython.core.display.HTML object>"
      ]
     },
     "metadata": {},
     "output_type": "display_data"
    }
   ],
   "source": [
    "%%html\n",
    "<style>\n",
    ".jupyter-widgets.widget-tab > .p-TabBar .p-TabBar-tab {\n",
    "    flex: 0 1 300px\n",
    "}\n",
    "</style>"
   ]
  },
  {
   "cell_type": "code",
   "execution_count": 34,
   "metadata": {
    "extensions": {
     "jupyter_dashboards": {
      "version": 1,
      "views": {
       "grid_default": {},
       "report_default": {
        "hidden": false
       }
      }
     }
    },
    "scrolled": false
   },
   "outputs": [
    {
     "data": {
      "application/vnd.jupyter.widget-view+json": {
       "model_id": "f602675c3f5141beba945482ca5a478f",
       "version_major": 2,
       "version_minor": 0
      },
      "text/plain": [
       "Tab(children=(HBox(children=(Figure(fig_margin={'top': 60, 'bottom': 60, 'left': 60, 'right': 60}, layout=Layo…"
      ]
     },
     "metadata": {},
     "output_type": "display_data"
    }
   ],
   "source": [
    "tab"
   ]
  },
  {
   "cell_type": "code",
   "execution_count": 35,
   "metadata": {
    "extensions": {
     "jupyter_dashboards": {
      "version": 1,
      "views": {
       "grid_default": {},
       "report_default": {
        "hidden": true
       }
      }
     }
    }
   },
   "outputs": [],
   "source": [
    "style_dd = {'description_width': 'initial'}\n",
    "Dropdown_selection = widgets.Dropdown(\n",
    "    options=[('Store', 'store'), ('District', 'district')],\n",
    "    value='store',\n",
    "    description='Plot Selection:',\n",
    "    disabled=False,\n",
    "    style = style_dd, \n",
    ")"
   ]
  },
  {
   "cell_type": "code",
   "execution_count": 36,
   "metadata": {
    "extensions": {
     "jupyter_dashboards": {
      "version": 1,
      "views": {
       "grid_default": {},
       "report_default": {
        "hidden": true
       }
      }
     }
    }
   },
   "outputs": [],
   "source": [
    "#Useful Accordion \n",
    "import ipywidgets as widgets\n",
    "\n",
    "list_widgets  = [\n",
    "    widgets.VBox([widgets.IntSlider(), widgets.IntSlider(), widgets.IntSlider()]),\n",
    "    widgets.Text()\n",
    "                ]\n",
    "\n",
    "accordion = widgets.Accordion(children=list_widgets)\n",
    "accordion.set_title(0, 'Sliders')\n",
    "accordion.set_title(1, 'Text')\n",
    "#accordion"
   ]
  },
  {
   "cell_type": "code",
   "execution_count": 37,
   "metadata": {
    "extensions": {
     "jupyter_dashboards": {
      "version": 1,
      "views": {
       "grid_default": {},
       "report_default": {
        "hidden": false
       }
      }
     }
    }
   },
   "outputs": [],
   "source": [
    "#Validate Item numbers in the Product Hierarchy\n",
    "boolean = any(prod_df['item_label'].duplicated())\n",
    "#widgets.HBox([widgets.Label(value=\"Product Hierarchy has duplicate Item numbers!\"), widgets.Valid(value= not boolean)])\n"
   ]
  },
  {
   "cell_type": "code",
   "execution_count": 38,
   "metadata": {
    "extensions": {
     "jupyter_dashboards": {
      "version": 1,
      "views": {
       "grid_default": {},
       "report_default": {
        "hidden": false
       }
      }
     }
    }
   },
   "outputs": [],
   "source": [
    "#new_df = prod_df.drop_duplicates(['item','item_label'])[['item','item_label']]\n",
    "\n",
    "#any(prod_df['item'].duplicated())"
   ]
  },
  {
   "cell_type": "code",
   "execution_count": 39,
   "metadata": {
    "extensions": {
     "jupyter_dashboards": {
      "version": 1,
      "views": {
       "grid_default": {},
       "report_default": {
        "hidden": false
       }
      }
     }
    }
   },
   "outputs": [],
   "source": [
    "#prod_df.dtypes"
   ]
  },
  {
   "cell_type": "code",
   "execution_count": 40,
   "metadata": {
    "extensions": {
     "jupyter_dashboards": {
      "version": 1,
      "views": {
       "grid_default": {},
       "report_default": {
        "hidden": true
       }
      }
     }
    }
   },
   "outputs": [],
   "source": [
    "#Creation of Grid Box\n",
    "#items = [widgets.Label(str(i)) for i in new_df[new_df['item_label'].duplicated()]['item','item_label']]\n",
    "#widgets.GridBox(items, layout=widgets.Layout(grid_template_columns=\"repeat(3, 500px)\"))"
   ]
  },
  {
   "cell_type": "code",
   "execution_count": 41,
   "metadata": {
    "extensions": {
     "jupyter_dashboards": {
      "version": 1,
      "views": {
       "grid_default": {},
       "report_default": {
        "hidden": true
       }
      }
     }
    }
   },
   "outputs": [],
   "source": [
    "d = [1,'q','3', None, 'temp']\n",
    "e = []\n",
    "\n",
    "for i in range(len(d)):\n",
    "    if i== 0:#if i == None is also valid but slower and not recommended by PEP8\n",
    "        e.append(d[i])\n",
    "    elif i== len(d)-1:\n",
    "        e.append(d[i])\n",
    "    else:\n",
    "        e.append('NaN')\n",
    "\n",
    "d = e\n",
    "\n",
    "#[1, 'q', '3', 'None', 'temp']"
   ]
  },
  {
   "cell_type": "code",
   "execution_count": 42,
   "metadata": {
    "extensions": {
     "jupyter_dashboards": {
      "version": 1,
      "views": {
       "grid_default": {},
       "report_default": {
        "hidden": true
       }
      }
     }
    }
   },
   "outputs": [],
   "source": [
    "#prod_refined_df = pd.read_csv('prod_refined.csv.dat')\n",
    "#new_df = prod_refined_df.drop_duplicates(['subclass','subclass_label'])[['subclass','subclass_label']]\n",
    "#new_df[new_df['subclass_label'].duplicated()]\n"
   ]
  }
 ],
 "metadata": {
  "extensions": {
   "jupyter_dashboards": {
    "activeView": "report_default",
    "version": 1,
    "views": {
     "grid_default": {
      "cellMargin": 10,
      "defaultCellHeight": 20,
      "maxColumns": 12,
      "name": "grid",
      "type": "grid"
     },
     "report_default": {
      "name": "report",
      "type": "report"
     }
    }
   }
  },
  "kernelspec": {
   "display_name": "Python 3",
   "language": "python",
   "name": "python3"
  },
  "language_info": {
   "codemirror_mode": {
    "name": "ipython",
    "version": 3
   },
   "file_extension": ".py",
   "mimetype": "text/x-python",
   "name": "python",
   "nbconvert_exporter": "python",
   "pygments_lexer": "ipython3",
   "version": "3.7.3"
  }
 },
 "nbformat": 4,
 "nbformat_minor": 2
}
