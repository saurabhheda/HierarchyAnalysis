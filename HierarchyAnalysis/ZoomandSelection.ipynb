{
 "cells": [
  {
   "cell_type": "code",
   "execution_count": 5,
   "metadata": {},
   "outputs": [
    {
     "data": {
      "application/vnd.jupyter.widget-view+json": {
       "model_id": "34301c99cbcf46c59f67897d4e2d47d9",
       "version_major": 2,
       "version_minor": 0
      },
      "text/plain": [
       "VBox(children=(Figure(axes=[Axis(scale=LinearScale()), Axis(orientation='vertical', scale=LinearScale(), tick_…"
      ]
     },
     "metadata": {},
     "output_type": "display_data"
    }
   ],
   "source": [
    "from bqplot.interacts import PanZoom\n",
    "import ipywidgets as widgets\n",
    "import bqplot as bq\n",
    "from traitlets import link\n",
    "from collections import OrderedDict\n",
    "\n",
    "import numpy as np\n",
    "\n",
    "buttonWidth = '50px'\n",
    "\n",
    "x_sc = bq.LinearScale()\n",
    "y_sc = bq.LinearScale()\n",
    "\n",
    "x_data = np.arange(500)\n",
    "y_data = np.random.randn(3, 500)\n",
    "\n",
    "line_chart = bq.Lines(x=x_data, y=y_data, scales= {'x': x_sc, 'y': y_sc}, \n",
    "                       display_legend=True, labels=[\"line 1\", \"line 2\", \"line 3\"] )\n",
    "\n",
    "ax_x = bq.Axis(scale=x_sc)\n",
    "ax_y = bq.Axis(scale=y_sc, orientation='vertical', tick_format='0.2f')\n",
    "\n",
    "fig = bq.Figure(marks=[line_chart], axes=[ax_x, ax_y])\n",
    "fig.layout.width = '95%'\n",
    "\n",
    "pz = PanZoom(scales={'x': [x_sc], 'y': [y_sc]})\n",
    "pzx = PanZoom(scales={'x': [x_sc]})\n",
    "pzy = PanZoom(scales={'y': [y_sc], })\n",
    "\n",
    "#\n",
    "zoom_interacts = widgets.ToggleButtons(\n",
    "                                        options=OrderedDict([\n",
    "                                            ('xy ', pz), \n",
    "                                            ('x ', pzx), \n",
    "                                            ('y ', pzy),   \n",
    "                                            (' ', None)]),\n",
    "                                            icons = [\"arrows\", \"arrows-h\", \"arrows-v\", \"stop\"],\n",
    "                                            tooltips = [\"zoom/pan in x & y\", \"zoom/pan in x only\", \"zoom/pan in y only\", \"cancel zoom/pan\"]\n",
    "                                        )\n",
    "zoom_interacts.style.button_width = buttonWidth\n",
    "\n",
    "ResetZoomButton = widgets.Button(\n",
    "    description='',\n",
    "    disabled=False,\n",
    "    button_style='', # 'success', 'info', 'warning', 'danger' or ''\n",
    "    tooltip='Reset zoom',\n",
    "    icon='arrows-alt'\n",
    ")\n",
    "\n",
    "def resetZoom(new):\n",
    "    # Reset the x and y axes on the figure\n",
    "    fig.axes[0].scale.min = None\n",
    "    fig.axes[1].scale.min = None\n",
    "    fig.axes[0].scale.max = None\n",
    "    fig.axes[1].scale.max = None  \n",
    "    \n",
    "ResetZoomButton.on_click(resetZoom)\n",
    "ResetZoomButton.layout.width = buttonWidth\n",
    "\n",
    "link((zoom_interacts, 'value'), (fig, 'interaction'))\n",
    "widgets.VBox([fig, widgets.HBox([zoom_interacts,ResetZoomButton])], align_self='stretch')"
   ]
  },
  {
   "cell_type": "code",
   "execution_count": null,
   "metadata": {},
   "outputs": [],
   "source": []
  }
 ],
 "metadata": {
  "kernelspec": {
   "display_name": "Python 3",
   "language": "python",
   "name": "python3"
  }
 },
 "nbformat": 4,
 "nbformat_minor": 2
}
